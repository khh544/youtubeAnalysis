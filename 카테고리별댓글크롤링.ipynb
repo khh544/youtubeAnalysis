{
 "cells": [
  {
   "cell_type": "code",
   "execution_count": 2,
   "id": "bcad5999",
   "metadata": {},
   "outputs": [],
   "source": [
    "import pandas as pd\n",
    "import numpy as np\n",
    "from googleapiclient.discovery import build\n",
    "from api_key import api_key\n",
    "import re"
   ]
  },
  {
   "cell_type": "code",
   "execution_count": 3,
   "id": "c90fa550",
   "metadata": {},
   "outputs": [],
   "source": [
    "#데이터프레임 불러오기\n",
    "df = pd.read_excel('./category_5.xlsx', engine=\"openpyxl\")"
   ]
  },
  {
   "cell_type": "code",
   "execution_count": 4,
   "id": "5c7dac7c",
   "metadata": {},
   "outputs": [],
   "source": [
    "#댓글 추출 함수\n",
    "def dfcomment(video_id_list,name_list,file_path):\n",
    "    errorvid=[]\n",
    "    concat_list=[]\n",
    "    for video_id,name in zip(video_id_list,name_list):\n",
    "        try:\n",
    "            comments = list()\n",
    "            api_obj = build('youtube', 'v3', developerKey=api_key)\n",
    "            response = api_obj.commentThreads().list(part='snippet,replies', videoId=video_id, maxResults=100).execute()\n",
    "\n",
    "            while response:\n",
    "                for item in response['items']:\n",
    "                    comment = item['snippet']['topLevelComment']['snippet']\n",
    "                    comments.append([comment['textDisplay'], comment['authorDisplayName'], comment['publishedAt'], comment['likeCount']])\n",
    "\n",
    "                    if item['snippet']['totalReplyCount'] > 0:\n",
    "                        if 'replies' in item.keys():\n",
    "                            for reply_item in item['replies']['comments']:\n",
    "                                reply = reply_item['snippet']\n",
    "                                comments.append([reply['textDisplay'], reply['authorDisplayName'], reply['publishedAt'], reply['likeCount']])\n",
    "\n",
    "                if 'nextPageToken' in response:\n",
    "                    response = api_obj.commentThreads().list(part='snippet,replies', videoId=video_id, pageToken=response['nextPageToken'], maxResults=100).execute()\n",
    "                else:\n",
    "                    break\n",
    "\n",
    "\n",
    "            df = pd.DataFrame(comments)\n",
    "            df['Video_Name']=name\n",
    "            df['Channel']=f'{file_path[2:6]}'\n",
    "            concat_list.append(df)\n",
    "        except:\n",
    "            print(video_id)\n",
    "            continue\n",
    "\n",
    "    return pd.concat(concat_list)"
   ]
  },
  {
   "cell_type": "code",
   "execution_count": 5,
   "id": "7d5ef388",
   "metadata": {
    "scrolled": true
   },
   "outputs": [
    {
     "name": "stdout",
     "output_type": "stream",
     "text": [
      "eNtKIvjo-70\n",
      "tkvhZNYeMGA\n",
      "o7BIXu6punw\n",
      "IgIrLOyyp5o\n",
      "MivKdTkUung\n"
     ]
    }
   ],
   "source": [
    "#댓글 추출시 필요한 변수들\n",
    "video_id_list=list(df['동영상_ID'])\n",
    "name_list=list(df['제목'])\n",
    "file_path='./'\n",
    "dfresult=dfcomment(video_id_list,name_list,file_path)"
   ]
  },
  {
   "cell_type": "code",
   "execution_count": 6,
   "id": "b10e409a",
   "metadata": {},
   "outputs": [],
   "source": [
    "dfresult.to_excel('./댓글5.xlsx')"
   ]
  },
  {
   "cell_type": "code",
   "execution_count": null,
   "id": "82ab9bd4",
   "metadata": {},
   "outputs": [],
   "source": [
    "dfresult"
   ]
  },
  {
   "cell_type": "code",
   "execution_count": null,
   "id": "820bad9f",
   "metadata": {},
   "outputs": [],
   "source": []
  }
 ],
 "metadata": {
  "kernelspec": {
   "display_name": "Python 3 (ipykernel)",
   "language": "python",
   "name": "python3"
  },
  "language_info": {
   "codemirror_mode": {
    "name": "ipython",
    "version": 3
   },
   "file_extension": ".py",
   "mimetype": "text/x-python",
   "name": "python",
   "nbconvert_exporter": "python",
   "pygments_lexer": "ipython3",
   "version": "3.9.12"
  },
  "toc": {
   "base_numbering": 1,
   "nav_menu": {},
   "number_sections": true,
   "sideBar": true,
   "skip_h1_title": false,
   "title_cell": "Table of Contents",
   "title_sidebar": "Contents",
   "toc_cell": false,
   "toc_position": {},
   "toc_section_display": true,
   "toc_window_display": false
  }
 },
 "nbformat": 4,
 "nbformat_minor": 5
}
