{
 "cells": [
  {
   "cell_type": "code",
   "execution_count": 4,
   "id": "880165a6",
   "metadata": {},
   "outputs": [],
   "source": [
    "import pandas as pd\n",
    "import numpy as np\n",
    "import re\n",
    "import json"
   ]
  },
  {
   "cell_type": "code",
   "execution_count": 7,
   "id": "e236a89b",
   "metadata": {},
   "outputs": [],
   "source": [
    "V1 = pd.read_excel('data/data_A.xlsx')\n",
    "V2 = pd.read_excel('data/data_B.xlsx')\n",
    "V3 = pd.read_excel('data/data_C.xlsx')\n",
    "V4 = pd.read_excel('data/data_D.xlsx')\n",
    "V5 = pd.read_excel('data/data_E.xlsx')\n",
    "V6 = pd.read_excel('data/data_F.xlsx')"
   ]
  },
  {
   "cell_type": "code",
   "execution_count": 11,
   "id": "8deae5dc",
   "metadata": {},
   "outputs": [],
   "source": [
    "V = pd.concat([V1,V2,V3,V4,V5,V6])\n",
    "V = V[['제목','영상길이','링크','조회수']]"
   ]
  },
  {
   "cell_type": "code",
   "execution_count": 12,
   "id": "c9de4322",
   "metadata": {},
   "outputs": [],
   "source": [
    "V['동영상_ID'] = V['링크'].str[-11:]"
   ]
  },
  {
   "cell_type": "code",
   "execution_count": 4,
   "id": "c02aa2aa",
   "metadata": {},
   "outputs": [],
   "source": [
    "#유투브 웹사이트의 html 데이터를 추출해와서 그중에서 제목,조회수,업로드 일 등의 정보를 추출할 수 있도록 준비\n",
    "\n",
    "from requests_html import HTMLSession \n",
    "from bs4 import BeautifulSoup as bs # importing BeautifulSoup\n",
    "\n",
    "#nest_asyncio.apply() ASNC문제가 HTMLSession이용중에 발생하여 이를 조치하기 위한 모듈\n",
    "import asyncio\n",
    "if asyncio.get_event_loop().is_running():\n",
    "    import nest_asyncio\n",
    "    nest_asyncio.apply()\n",
    "#url = 웹사이트 주소\n",
    "url = 'https://www.youtube.com/watch?v=oUvPWwmvoPM'\n",
    "\n",
    "session = HTMLSession()\n",
    "r = session.get(url) \n",
    "#입력한 url에서 html정보를 가져옴\n",
    "\n",
    "#soup = 추출한 html 정보\n",
    "html_str = r.text\n",
    "soup = bs(r.html.html, \"html.parser\")\n",
    "#soup.find_all(\"meta\") 를 통해 html정보에서 메타데이터(조회수,제목 등)만을 추출\n",
    "#soup.find(\"meta\", itemprop=\"datePublished\")[\"content\"] 의 경우 업로드일(영상출시일)을 추출함"
   ]
  },
  {
   "cell_type": "code",
   "execution_count": 77,
   "id": "33c3bd45",
   "metadata": {
    "scrolled": true
   },
   "outputs": [
    {
     "name": "stderr",
     "output_type": "stream",
     "text": [
      "C:\\Users\\jpark\\AppData\\Local\\Temp\\ipykernel_20252\\2030871249.py:23: SettingWithCopyWarning: \n",
      "A value is trying to be set on a copy of a slice from a DataFrame\n",
      "\n",
      "See the caveats in the documentation: https://pandas.pydata.org/pandas-docs/stable/user_guide/indexing.html#returning-a-view-versus-a-copy\n",
      "  V['좋아요'][i] = '0' if likes_str == 'No' else likes_str\n"
     ]
    }
   ],
   "source": [
    "#데이터베이스에 '업로드일'열을 추가 후, for문을 통해 각 동영상ID를 통한 url입력을 통해 페이지에서 업로드일을 추출\n",
    "\n",
    "V['업로드일'] = np.nan\n",
    "V['실제조회수'] = np.nan\n",
    "V['설명'] = np.nan\n",
    "V['좋아요'] = np.nan\n",
    "\n",
    "for i in range(len(V)):\n",
    "    url = 'https://www.youtube.com/watch?v=' + V.동영상_ID[i]\n",
    "    r = session.get(url)\n",
    "    soup = bs(r.html.html, \"html.parser\")\n",
    "    V['업로드일'][i] = soup.find(\"meta\", itemprop=\"datePublished\")[\"content\"]\n",
    "    V['실제조회수'][i] = soup.find(\"meta\", itemprop=\"interactionCount\")[\"content\"]\n",
    "    V['설명'][i] = soup.find(\"meta\", itemprop=\"description\")[\"content\"]\n",
    "    try:\n",
    "        data = re.search(r\"var ytInitialData = ({.*?});\", soup.prettify()).group(1)\n",
    "        data_json = json.loads(data)\n",
    "        videoPrimaryInfoRenderer = data_json['contents']['twoColumnWatchNextResults']['results']['results']['contents'][0]['videoPrimaryInfoRenderer']\n",
    "        videoSecondaryInfoRenderer = data_json['contents']['twoColumnWatchNextResults']['results']['results']['contents'][1]['videoSecondaryInfoRenderer']\n",
    "        # number of likes\n",
    "        likes_label = videoPrimaryInfoRenderer['videoActions']['menuRenderer']['topLevelButtons'][0]['toggleButtonRenderer']['defaultText']['accessibility']['accessibilityData']['label'] # \"No likes\" or \"###,### likes\"\n",
    "        likes_str = likes_label.split(' ')[1].replace(',','')\n",
    "        V['좋아요'][i] = '0' if likes_str == 'No' else likes_str\n",
    "    except:\n",
    "        V['좋아요'][i] = 'ERROR'\n",
    "        continue"
   ]
  },
  {
   "cell_type": "code",
   "execution_count": 78,
   "id": "47b9327f",
   "metadata": {},
   "outputs": [],
   "source": [
    "V.to_excel('data/브이로그디테일추출.xlsx', index = False)"
   ]
  },
  {
   "cell_type": "code",
   "execution_count": null,
   "id": "328eaf20",
   "metadata": {},
   "outputs": [],
   "source": []
  }
 ],
 "metadata": {
  "kernelspec": {
   "display_name": "Python 3 (ipykernel)",
   "language": "python",
   "name": "python3"
  },
  "language_info": {
   "codemirror_mode": {
    "name": "ipython",
    "version": 3
   },
   "file_extension": ".py",
   "mimetype": "text/x-python",
   "name": "python",
   "nbconvert_exporter": "python",
   "pygments_lexer": "ipython3",
   "version": "3.9.12"
  },
  "toc": {
   "base_numbering": 1,
   "nav_menu": {},
   "number_sections": true,
   "sideBar": true,
   "skip_h1_title": false,
   "title_cell": "Table of Contents",
   "title_sidebar": "Contents",
   "toc_cell": false,
   "toc_position": {},
   "toc_section_display": true,
   "toc_window_display": false
  }
 },
 "nbformat": 4,
 "nbformat_minor": 5
}
